{
 "cells": [
  {
   "cell_type": "code",
   "execution_count": 20,
   "metadata": {},
   "outputs": [],
   "source": [
    "import warnings\n",
    "warnings.filterwarnings(\"ignore\")"
   ]
  },
  {
   "cell_type": "code",
   "execution_count": 1,
   "metadata": {},
   "outputs": [],
   "source": [
    "import numpy as np\n",
    "import cv2\n",
    "from math import sqrt"
   ]
  },
  {
   "cell_type": "code",
   "execution_count": 13,
   "metadata": {},
   "outputs": [],
   "source": [
    "# Roberts operator\n",
    "def Roberts(img, threshold):\n",
    "    img_rob = np.zeros((img.shape[0], img.shape[1]))\n",
    "    Gx = np.zeros((img.shape[0], img.shape[1]))\n",
    "    Gy = np.zeros((img.shape[0], img.shape[1]))\n",
    "    \n",
    "    for i in range(img.shape[0]-1):\n",
    "        for j in range(img.shape[1]-1):\n",
    "            Gx[i][j] = (-1)*img[i][j][0] + 0*img[i][j+1][0] + 0*img[i+1][j][0] + 1*img[i+1][j+1][0]\n",
    "            Gy[i][j] = 0*img[i][j][0] + (-1)*img[i][j+1][0] + 1*img[i+1][j][0] + 0*img[i+1][j+1][0]\n",
    "            \n",
    "    for i in range(img_rob.shape[0]):\n",
    "        for j in range(img_rob.shape[1]):\n",
    "            if sqrt(Gx[i][j]**2 + Gy[i][j]**2) <= threshold:\n",
    "                img_rob[i][j] = 255\n",
    "    return img_rob"
   ]
  },
  {
   "cell_type": "code",
   "execution_count": 18,
   "metadata": {},
   "outputs": [],
   "source": [
    "# Prewitt edge detector\n",
    "def Prewitt(img, threshold):\n",
    "    img_pre = np.zeros((img.shape[0], img.shape[1]))\n",
    "    Gx = np.zeros((img.shape[0], img.shape[1]))\n",
    "    Gy = np.zeros((img.shape[0], img.shape[1]))\n",
    "    \n",
    "    for i in range(1, img.shape[0]-1):\n",
    "        for j in range(1, img.shape[1]-1):\n",
    "            Gx[i][j] = (-1)*(img[i-1][j-1][0]+img[i-1][j][0]+img[i-1][j+1][0])+1*(img[i+1][j-1][0]+img[i+1][j][0]+img[i+1][j+1][0])\n",
    "            Gy[i][j] = (-1)*(img[i-1][j-1][0]+img[i][j-1][0]+img[i+1][j-1][0])+1*(img[i-1][j+1][0]+img[i][j+1][0]+img[i+1][j+1][0])\n",
    "            \n",
    "    for i in range(img_pre.shape[0]):\n",
    "        for j in range(img_pre.shape[1]):\n",
    "            if sqrt(Gx[i][j]**2 + Gy[i][j]**2) <= threshold:\n",
    "                img_pre[i][j] = 255\n",
    "    return img_pre"
   ]
  },
  {
   "cell_type": "code",
   "execution_count": 24,
   "metadata": {},
   "outputs": [],
   "source": [
    "# Sobel edge detector\n",
    "def Sobel(img, threshold):\n",
    "    img_sob = np.zeros((img.shape[0], img.shape[1]))\n",
    "    Gx = np.zeros((img.shape[0], img.shape[1]))\n",
    "    Gy = np.zeros((img.shape[0], img.shape[1]))\n",
    "    \n",
    "    for i in range(1, img.shape[0]-1):\n",
    "        for j in range(1, img.shape[1]-1):\n",
    "            Gx[i][j] = (-1)*(img[i-1][j-1][0]+2*img[i-1][j][0]+img[i-1][j+1][0])+1*(img[i+1][j-1][0]+2*img[i+1][j][0]+img[i+1][j+1][0])\n",
    "            Gy[i][j] = (-1)*(img[i-1][j-1][0]+2*img[i][j-1][0]+img[i+1][j-1][0])+1*(img[i-1][j+1][0]+2*img[i][j+1][0]+img[i+1][j+1][0])\n",
    "            \n",
    "    for i in range(img_sob.shape[0]):\n",
    "        for j in range(img_sob.shape[1]):\n",
    "            if sqrt(Gx[i][j]**2 + Gy[i][j]**2) <= threshold:\n",
    "                img_sob[i][j] = 255\n",
    "    return img_sob"
   ]
  },
  {
   "cell_type": "code",
   "execution_count": 27,
   "metadata": {},
   "outputs": [],
   "source": [
    "# Frei and Chen gradient operator\n",
    "def FreiandChen(img, threshold):\n",
    "    img_fac = np.zeros((img.shape[0], img.shape[1]))\n",
    "    Gx = np.zeros((img.shape[0], img.shape[1]))\n",
    "    Gy = np.zeros((img.shape[0], img.shape[1]))\n",
    "    \n",
    "    for i in range(1, img.shape[0]-1):\n",
    "        for j in range(1, img.shape[1]-1):\n",
    "            Gx[i][j] = (-1)*(img[i-1][j-1][0]+sqrt(2)*img[i-1][j][0]+img[i-1][j+1][0])+1*(img[i+1][j-1][0]+sqrt(2)*img[i+1][j][0]+img[i+1][j+1][0])\n",
    "            Gy[i][j] = (-1)*(img[i-1][j-1][0]+sqrt(2)*img[i][j-1][0]+img[i+1][j-1][0])+1*(img[i-1][j+1][0]+sqrt(2)*img[i][j+1][0]+img[i+1][j+1][0])\n",
    "            \n",
    "    for i in range(img_fac.shape[0]):\n",
    "        for j in range(img_fac.shape[1]):\n",
    "            if sqrt(Gx[i][j]**2 + Gy[i][j]**2) <= threshold:\n",
    "                img_fac[i][j] = 255\n",
    "    return img_fac"
   ]
  },
  {
   "cell_type": "code",
   "execution_count": null,
   "metadata": {},
   "outputs": [],
   "source": []
  },
  {
   "cell_type": "code",
   "execution_count": null,
   "metadata": {},
   "outputs": [],
   "source": []
  },
  {
   "cell_type": "code",
   "execution_count": null,
   "metadata": {},
   "outputs": [],
   "source": []
  },
  {
   "cell_type": "code",
   "execution_count": 14,
   "metadata": {},
   "outputs": [],
   "source": [
    "img = cv2.imread('lena.bmp')"
   ]
  },
  {
   "cell_type": "code",
   "execution_count": 15,
   "metadata": {},
   "outputs": [
    {
     "data": {
      "text/plain": [
       "True"
      ]
     },
     "execution_count": 15,
     "metadata": {},
     "output_type": "execute_result"
    }
   ],
   "source": [
    "cv2.imwrite('lena_rob30.bmp',Roberts(img, 30))"
   ]
  },
  {
   "cell_type": "code",
   "execution_count": 22,
   "metadata": {},
   "outputs": [
    {
     "data": {
      "text/plain": [
       "True"
      ]
     },
     "execution_count": 22,
     "metadata": {},
     "output_type": "execute_result"
    }
   ],
   "source": [
    "cv2.imwrite('img_pre24.bmp',Prewitt(img, 24))"
   ]
  },
  {
   "cell_type": "code",
   "execution_count": 25,
   "metadata": {},
   "outputs": [
    {
     "data": {
      "text/plain": [
       "True"
      ]
     },
     "execution_count": 25,
     "metadata": {},
     "output_type": "execute_result"
    }
   ],
   "source": [
    "cv2.imwrite('img_sob38.bmp',Sobel(img, 38))"
   ]
  },
  {
   "cell_type": "code",
   "execution_count": 28,
   "metadata": {},
   "outputs": [
    {
     "data": {
      "text/plain": [
       "True"
      ]
     },
     "execution_count": 28,
     "metadata": {},
     "output_type": "execute_result"
    }
   ],
   "source": [
    "cv2.imwrite('img_fac30.bmp',FreiandChen(img, 30))"
   ]
  },
  {
   "cell_type": "code",
   "execution_count": null,
   "metadata": {},
   "outputs": [],
   "source": []
  }
 ],
 "metadata": {
  "kernelspec": {
   "display_name": "Python 3",
   "language": "python",
   "name": "python3"
  },
  "language_info": {
   "codemirror_mode": {
    "name": "ipython",
    "version": 3
   },
   "file_extension": ".py",
   "mimetype": "text/x-python",
   "name": "python",
   "nbconvert_exporter": "python",
   "pygments_lexer": "ipython3",
   "version": "3.7.4"
  }
 },
 "nbformat": 4,
 "nbformat_minor": 2
}
