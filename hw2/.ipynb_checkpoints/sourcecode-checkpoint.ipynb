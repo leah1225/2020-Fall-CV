{
 "cells": [
  {
   "cell_type": "code",
   "execution_count": 121,
   "metadata": {},
   "outputs": [],
   "source": [
    "import matplotlib.pyplot as plt\n",
    "import numpy as np\n",
    "import cv2"
   ]
  },
  {
   "cell_type": "code",
   "execution_count": 122,
   "metadata": {},
   "outputs": [],
   "source": [
    "#讀取檔案（numpy array）\n",
    "img = cv2.imread('lena.bmp')\n",
    "#img.shape"
   ]
  },
  {
   "cell_type": "code",
   "execution_count": 123,
   "metadata": {},
   "outputs": [
    {
     "data": {
      "text/plain": [
       "True"
      ]
     },
     "execution_count": 123,
     "metadata": {},
     "output_type": "execute_result"
    }
   ],
   "source": [
    "#Binariaze image at threshold\n",
    "\n",
    "#建立輸出的圖片檔\n",
    "cv2.imwrite('binarize.bmp', img)\n",
    "#開啟圖片\n",
    "img1 = cv2.imread('binarize.bmp')\n",
    "for i in range(512):\n",
    "    for j in range(512):\n",
    "        if int(img1[i][j][0]) >= 128:\n",
    "            img1[i][j] = [255, 255, 255]\n",
    "        else:\n",
    "            img1[i][j] = [0, 0, 0]\n",
    "cv2.imwrite('binarize.bmp', img1)"
   ]
  },
  {
   "cell_type": "code",
   "execution_count": 124,
   "metadata": {},
   "outputs": [
    {
     "data": {
      "image/png": "[encoded data removed]",
      "text/plain": [
       "<Figure size 432x288 with 1 Axes>"
      ]
     },
     "metadata": {
      "needs_background": "light"
     },
     "output_type": "display_data"
    }
   ],
   "source": [
    "#Histogram\n",
    "def draw_hist(myList,Title,Xlabel,Ylabel):\n",
    "    plt.hist(myList, 50)\n",
    "    plt.xlabel(Xlabel)\n",
    "    plt.ylabel(Ylabel)\n",
    "    plt.title(Title)\n",
    "    plt.savefig(\"Histogram.png\")\n",
    "    plt.show()\n",
    "\n",
    "data = [] #用list儲存數值\n",
    "for i in range(512):\n",
    "    for j in range(512):\n",
    "        data.append(int(img[i][j][0]))    \n",
    "draw_hist(data,'Gray Level Histogram','Gray level value','number')"
   ]
  },
  {
   "cell_type": "code",
   "execution_count": 125,
   "metadata": {},
   "outputs": [],
   "source": [
    "#Connected components\n",
    "\n",
    "labelArray = [[0 for _ in range(512)] for _ in range(512)]\n",
    "\n",
    "#initialize each pixel to a new label\n",
    "newlabel = 1\n",
    "for i in range(512):\n",
    "    for j in range(512):\n",
    "        if int(img1[i][j][0]) != 0:\n",
    "            labelArray[i][j] = newlabel\n",
    "            newlabel += 1"
   ]
  },
  {
   "cell_type": "code",
   "execution_count": 126,
   "metadata": {},
   "outputs": [],
   "source": [
    "#Iteration of top-down followed by bottom-up\n",
    "#使用四連通\n",
    "while True:\n",
    "    change = False\n",
    "    #top-down pass\n",
    "    for i in range(512):\n",
    "        for j in range(512):\n",
    "            if labelArray[i][j] != 0:\n",
    "                u = 2700000\n",
    "                l = 2700000\n",
    "                #可以往上\n",
    "                if (i != 0) and (labelArray[i-1][j] != 0):\n",
    "                    u = labelArray[i-1][j]\n",
    "                #可以往左\n",
    "                if (j != 0) and (labelArray[i][j-1] != 0):\n",
    "                    l = labelArray[i][j-1]\n",
    "                m = min(u, l)\n",
    "                if (m != 0) and (m < labelArray[i][j]):\n",
    "                    change = True\n",
    "                    labelArray[i][j] = m\n",
    "                    \n",
    "    #bottom-up pass\n",
    "    for i in range(511, -1, -1):\n",
    "        for j in range(511, -1, -1):\n",
    "            if labelArray[i][j] != 0:\n",
    "                d = 2700000\n",
    "                r = 2700000\n",
    "                if (i != 511) and (labelArray[i+1][j] != 0):#可以往下\n",
    "                    d = labelArray[i+1][j]\n",
    "                if (j != 511) and (labelArray[i][j+1] != 0):#可以往右\n",
    "                    r = labelArray[i][j+1]\n",
    "                m = min(d, r)\n",
    "                if(m != 0) and (m < labelArray[i][j]):\n",
    "                    change = True\n",
    "                    labelArray[i][j] = m\n",
    "    if change == False:\n",
    "        break"
   ]
  },
  {
   "cell_type": "code",
   "execution_count": 127,
   "metadata": {
    "scrolled": true
   },
   "outputs": [],
   "source": [
    "import itertools\n",
    "from collections import Counter\n",
    "\n",
    "# count the number of regions ...\n",
    "test = list(itertools.chain(*labelArray))\n",
    "sorted_dict =  Counter(test)\n",
    "a = sorted(sorted_dict.items(), key=lambda x: x[1])\n",
    "\n",
    "label_List = []\n",
    "for i in range(len(a)-1, -1, -1):\n",
    "    if(a[i][1] >= 500)and(a[i][0]!=0):\n",
    "        label_List.append(a[i][0])"
   ]
  },
  {
   "cell_type": "code",
   "execution_count": 130,
   "metadata": {},
   "outputs": [
    {
     "data": {
      "text/plain": [
       "True"
      ]
     },
     "execution_count": 130,
     "metadata": {},
     "output_type": "execute_result"
    }
   ],
   "source": [
    "#draw bounding box and centroid...\n",
    "for l in range(len(label_List)):\n",
    "    updown = []\n",
    "    leftright = []\n",
    "\n",
    "    for i in range(512):\n",
    "        for j in range(512):\n",
    "            if labelArray[i][j] == label_List[l]:\n",
    "                updown.append(i)\n",
    "                leftright.append(j)\n",
    "                \n",
    "    x = int(sum(leftright)/len(leftright))\n",
    "    y = int(sum(updown)/len(updown))\n",
    "    cv2.rectangle(img1, (min(leftright), min(updown)), (max(leftright), max(updown)), (255, 0, 0), 1)\n",
    "    cv2.circle(img1,(x, y), 4, (0, 0, 255), -1)\n",
    "    \n",
    "cv2.imwrite('connect_component.bmp', img1)"
   ]
  }
 ],
 "metadata": {
  "kernelspec": {
   "display_name": "Python 3",
   "language": "python",
   "name": "python3"
  },
  "language_info": {
   "codemirror_mode": {
    "name": "ipython",
    "version": 3
   },
   "file_extension": ".py",
   "mimetype": "text/x-python",
   "name": "python",
   "nbconvert_exporter": "python",
   "pygments_lexer": "ipython3",
   "version": "3.7.4"
  }
 },
 "nbformat": 4,
 "nbformat_minor": 2
}
