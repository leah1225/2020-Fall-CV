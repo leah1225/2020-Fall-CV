{
 "cells": [
  {
   "cell_type": "code",
   "execution_count": 1,
   "metadata": {},
   "outputs": [],
   "source": [
    "import numpy as np\n",
    "import cv2"
   ]
  },
  {
   "cell_type": "code",
   "execution_count": 3,
   "metadata": {},
   "outputs": [],
   "source": [
    "def binarize(img, threshold):\n",
    "    for i in range(512):\n",
    "        for j in range(512):\n",
    "            if int(img[i][j][0]) >= threshold:\n",
    "                img[i][j] = [255, 255, 255]\n",
    "            else:\n",
    "                img[i][j] = [0, 0, 0]\n",
    "    return img"
   ]
  },
  {
   "cell_type": "code",
   "execution_count": 4,
   "metadata": {},
   "outputs": [],
   "source": [
    "# open and binarize lena.bmp\n",
    "img = cv2.imread('lena.bmp')\n",
    "img = binarize(img, 128)"
   ]
  },
  {
   "cell_type": "code",
   "execution_count": 5,
   "metadata": {},
   "outputs": [],
   "source": [
    "# downsample lena.bmp\n",
    "img_down = np.zeros((64, 64))\n",
    "for i in range(img_down.shape[0]):\n",
    "    for j in range(img_down.shape[1]):\n",
    "        img_down[i][j] = img[8 * i][8 * j][0]"
   ]
  },
  {
   "cell_type": "code",
   "execution_count": null,
   "metadata": {},
   "outputs": [],
   "source": []
  }
 ],
 "metadata": {
  "kernelspec": {
   "display_name": "Python 3",
   "language": "python",
   "name": "python3"
  },
  "language_info": {
   "codemirror_mode": {
    "name": "ipython",
    "version": 3
   },
   "file_extension": ".py",
   "mimetype": "text/x-python",
   "name": "python",
   "nbconvert_exporter": "python",
   "pygments_lexer": "ipython3",
   "version": "3.7.4"
  }
 },
 "nbformat": 4,
 "nbformat_minor": 2
}
