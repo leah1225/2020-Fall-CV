{
 "cells": [
  {
   "cell_type": "code",
   "execution_count": 1,
   "metadata": {},
   "outputs": [],
   "source": [
    "import numpy as np\n",
    "import cv2"
   ]
  },
  {
   "cell_type": "code",
   "execution_count": 2,
   "metadata": {},
   "outputs": [],
   "source": [
    "#octal kernel 3,5,5,5,3\n",
    "kernel = [[-2,-1],[-2,0],[-2,1],\n",
    "          [-1,-2],[-1,-1],[-1,0],[-1,1],[-1,2],\n",
    "          [0,-2],[0,-1],[0,0] ,[0,1], [0,2],\n",
    "          [1,-2],[1,-1],[1,0],[1,1],[1,2],\n",
    "          [2,-1],[2,0],[2,1]]\n",
    "\n",
    "img = cv2.imread(\"lena.bmp\")"
   ]
  },
  {
   "cell_type": "code",
   "execution_count": 25,
   "metadata": {},
   "outputs": [],
   "source": [
    "def dilation(img, kernel):\n",
    "    dilation = np.zeros(img.shape)\n",
    "    for i in range(img.shape[0]):\n",
    "        for j in range(img.shape[1]):\n",
    "            if img[i][j][0] > 0:\n",
    "                max = 0\n",
    "                for element in kernel:\n",
    "                    p,q = element\n",
    "                    if(i+p >= 0)and(i+p < img.shape[0])and(j+q >= 0)and(j+q < img.shape[1]):\n",
    "                        if img[i+p][j+q][0] > max:\n",
    "                            max = img[i+p][j+q][0]\n",
    "                for element in kernel:\n",
    "                    p,q = element\n",
    "                    if(i+p >= 0)and(i+p < img.shape[0])and(j+q >= 0)and(j+q < img.shape[1]):\n",
    "                        dilation[i+p][j+q] = max\n",
    "    return dilation"
   ]
  },
  {
   "cell_type": "code",
   "execution_count": 4,
   "metadata": {},
   "outputs": [],
   "source": [
    "def erosion(img, kernel):\n",
    "    erosion = np.zeros(img.shape)\n",
    "    for i in range(img.shape[0]):\n",
    "        for j in range(img.shape[1]):\n",
    "            min = 256\n",
    "            exist = True\n",
    "            for element in kernel:\n",
    "                p,q = element\n",
    "                if(i+p >= 0)and(i+p < img.shape[0])and(j+q >= 0)and(j+q < img.shape[1]):\n",
    "                    if img[i+p][j+q][0] == 0:\n",
    "                        exist = False\n",
    "                        break\n",
    "                    if img[i+p][j+q][0] < min:\n",
    "                        min = img[i+p][j+q][0]\n",
    "            exist = True            \n",
    "            for element in kernel:\n",
    "                p,q = element\n",
    "                if(i+p >= 0)and(i+p < img.shape[0])and(j+q >= 0)and(j+q < img.shape[1]):\n",
    "                    if img[i+p][j+q][0] == 0:\n",
    "                        exist = False\n",
    "                        break\n",
    "                \n",
    "                if(i+p >= 0)and(i+p < img.shape[0])and(j+q >= 0)and(j+q < img.shape[1])and(exist):\n",
    "                    erosion[i+p][j+q] = min\n",
    "    return erosion"
   ]
  },
  {
   "cell_type": "code",
   "execution_count": 31,
   "metadata": {},
   "outputs": [],
   "source": [
    "def opening(img, kernel):\n",
    "    return dilation(erosion(img, kernel),kernel)"
   ]
  },
  {
   "cell_type": "code",
   "execution_count": 33,
   "metadata": {},
   "outputs": [],
   "source": [
    "def closing(img, kernel):\n",
    "    return erosion(dilation(img, kernel), kernel)"
   ]
  },
  {
   "cell_type": "code",
   "execution_count": 34,
   "metadata": {},
   "outputs": [
    {
     "data": {
      "text/plain": [
       "True"
      ]
     },
     "execution_count": 34,
     "metadata": {},
     "output_type": "execute_result"
    }
   ],
   "source": [
    "cv2.imwrite(\"dilation.bmp\", dilation(img, kernel))\n",
    "cv2.imwrite(\"erosion.bmp\", erosion(img, kernel))\n",
    "cv2.imwrite(\"opening.bmp\", opening(img, kernel))\n",
    "cv2.imwrite(\"closing.bmp\", closing(img, kernel))"
   ]
  }
 ],
 "metadata": {
  "kernelspec": {
   "display_name": "Python 3",
   "language": "python",
   "name": "python3"
  },
  "language_info": {
   "codemirror_mode": {
    "name": "ipython",
    "version": 3
   },
   "file_extension": ".py",
   "mimetype": "text/x-python",
   "name": "python",
   "nbconvert_exporter": "python",
   "pygments_lexer": "ipython3",
   "version": "3.7.4"
  }
 },
 "nbformat": 4,
 "nbformat_minor": 2
}
