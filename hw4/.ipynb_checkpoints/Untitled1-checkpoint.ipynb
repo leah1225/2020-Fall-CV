{
 "cells": [
  {
   "cell_type": "code",
   "execution_count": 1,
   "metadata": {},
   "outputs": [],
   "source": [
    "import numpy as np\n",
    "import cv2"
   ]
  },
  {
   "cell_type": "code",
   "execution_count": 10,
   "metadata": {},
   "outputs": [],
   "source": [
    "def dilation(img_bin, kernel):\n",
    "    img_dil = np.zeros(img_bin.shape, np.int)\n",
    "    for i in range(img_bin.shape[0]):\n",
    "        for j in range(img_bin.shape[1]):\n",
    "            if img_bin[i][j] > 0:\n",
    "                for element in kernel:\n",
    "                    p, q = element\n",
    "                    if (i + p) >= 0 and (i + p) <= (img_bin.shape[0] - 1) and   \\\n",
    "                       (j + q) >= 0 and (j + q) <= (img_bin.shape[1] - 1):\n",
    "                        img_dil[i + p][j + q] = 255\n",
    "    return img_dil\n",
    "\n",
    "def erosion(img_bin, kernel):\n",
    "    img_ero = np.zeros(img_bin.shape, np.int)\n",
    "    for i in range(img_bin.shape[0]):\n",
    "        for j in range(img_bin.shape[1]):\n",
    "            if img_bin[i][j] > 0:\n",
    "                exist = True\n",
    "                for element in kernel:\n",
    "                    p, q = element\n",
    "                    if (i + p) < 0 or (i + p) > (img_bin.shape[0] - 1) or   \\\n",
    "                       (j + q) < 0 or (j + q) > (img_bin.shape[1] - 1) or   \\\n",
    "                       img_bin[i + p][j + q] == 0:\n",
    "                        exist = False\n",
    "                        break\n",
    "                if exist:\n",
    "                    img_ero[i][j] = 255\n",
    "    return img_ero\n",
    "\n",
    "def closing(img_bin, kernel):\n",
    "    return erosion(dilation(img_bin, kernel), kernel)\n",
    "\n",
    "def opening(img_bin, kernel):\n",
    "    return dilation(erosion(img_bin, kernel), kernel)\n",
    "\n",
    "def hit_and_miss(img_bin, J_kernel, K_kernel):\n",
    "    # img_comp is the complement of img_bin\n",
    "    img_comp = -img_bin + 255\n",
    "    return (((erosion(img_bin, J_kernel) + erosion(img_comp, K_kernel)) / 2) == 255.) * 255."
   ]
  },
  {
   "cell_type": "code",
   "execution_count": 11,
   "metadata": {},
   "outputs": [
    {
     "data": {
      "text/plain": [
       "True"
      ]
     },
     "execution_count": 11,
     "metadata": {},
     "output_type": "execute_result"
    }
   ],
   "source": [
    "img = cv2.imread('lena.bmp', 0)\n",
    "    # img is now a 512 x 512 numpy.ndarray\n",
    "\n",
    "    # binarize the image first ...\n",
    "img_bin = np.zeros(img.shape, np.int)\n",
    "for i in range(img.shape[0]):\n",
    "    for j in range(img.shape[1]):\n",
    "        if img[i][j] >= 128:\n",
    "            img_bin[i][j] = 255\n",
    "    # output the binarized image ...\n",
    "cv2.imwrite('lena.bin.bmp', img_bin)\n",
    "\n",
    "# kernel is a 3-5-5-5-3 octagon, where\n",
    "# the orgin is at the center\n",
    "kernel = [[-2, -1], [-2, 0], [-2, 1],\n",
    "      [-1, -2], [-1, -1], [-1, 0], [-1, 1], [-1, 2],\n",
    "      [0, -2], [0, -1], [0, 0], [0, 1], [0, 2],\n",
    "      [1, -2], [1, -1], [1, 0], [1, 1], [1, 2],\n",
    "      [2, -1], [2, 0], [2, 1]]\n",
    "\n",
    "# perform binary morphological dilation\n",
    "\n",
    "img_dil = dilation(img_bin, kernel)\n",
    "cv2.imwrite('lena.bin.dil.bmp', img_dil)\n",
    "\n",
    "# perform binary morphological erosion\n",
    "\n",
    "img_ero = erosion(img_bin, kernel)\n",
    "cv2.imwrite('lena.bin.ero.bmp', img_ero)\n",
    "\n",
    "# perform binary morphological closing\n",
    "\n",
    "img_close = closing(img_bin, kernel)\n",
    "cv2.imwrite('lena.bin.close.bmp', img_close)\n",
    "\n",
    "# perform binary morphological opening\n",
    "\n",
    "img_open = opening(img_bin, kernel)\n",
    "cv2.imwrite('lena.bin.open.bmp', img_open)\n",
    "\n",
    "# kernels for hit-and-miss\n",
    "J_kernel = [[0, -1], [0, 0], [1, 0]]\n",
    "K_kernel = [[-1, 0], [-1, 1], [0, 1]]\n",
    "\n",
    "# perform hit-and-miss transformion\n",
    "\n",
    "img_ham = hit_and_miss(img_bin, J_kernel, K_kernel)\n",
    "cv2.imwrite('lena.bin.ham.bmp', img_ham)"
   ]
  },
  {
   "cell_type": "code",
   "execution_count": 7,
   "metadata": {},
   "outputs": [
    {
     "data": {
      "text/plain": [
       "(array([], dtype=int64), array([], dtype=int64))"
      ]
     },
     "execution_count": 7,
     "metadata": {},
     "output_type": "execute_result"
    }
   ],
   "source": [
    "np.where(img_ham>0)"
   ]
  },
  {
   "cell_type": "code",
   "execution_count": null,
   "metadata": {},
   "outputs": [],
   "source": []
  },
  {
   "cell_type": "code",
   "execution_count": null,
   "metadata": {},
   "outputs": [],
   "source": []
  },
  {
   "cell_type": "code",
   "execution_count": null,
   "metadata": {},
   "outputs": [],
   "source": []
  },
  {
   "cell_type": "code",
   "execution_count": null,
   "metadata": {},
   "outputs": [],
   "source": []
  }
 ],
 "metadata": {
  "kernelspec": {
   "display_name": "Python 3",
   "language": "python",
   "name": "python3"
  },
  "language_info": {
   "codemirror_mode": {
    "name": "ipython",
    "version": 3
   },
   "file_extension": ".py",
   "mimetype": "text/x-python",
   "name": "python",
   "nbconvert_exporter": "python",
   "pygments_lexer": "ipython3",
   "version": "3.7.4"
  }
 },
 "nbformat": 4,
 "nbformat_minor": 2
}
