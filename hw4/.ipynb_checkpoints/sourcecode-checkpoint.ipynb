{
 "cells": [
  {
   "cell_type": "code",
   "execution_count": 1,
   "metadata": {},
   "outputs": [],
   "source": [
    "import numpy as np\n",
    "import cv2"
   ]
  },
  {
   "cell_type": "code",
   "execution_count": 2,
   "metadata": {},
   "outputs": [],
   "source": [
    "def binarize(img, threshold):\n",
    "    for i in range(512):\n",
    "        for j in range(512):\n",
    "            if int(img[i][j][0]) >= threshold:\n",
    "                img[i][j] = [255, 255, 255]\n",
    "            else:\n",
    "                img[i][j] = [0, 0, 0]\n",
    "    return img"
   ]
  },
  {
   "cell_type": "code",
   "execution_count": 3,
   "metadata": {},
   "outputs": [],
   "source": [
    "def dilation(img, kernel):\n",
    "    dilation = np.zeros(img.shape)\n",
    "    for i in range(img.shape[0]):\n",
    "        for j in range(img.shape[1]):\n",
    "            if img[i][j][0] != 0:\n",
    "                for element in kernel:\n",
    "                    p,q = element\n",
    "                    if(i+p >= 0)and(i+p <=(img.shape[0]-1))and(j+q >= 0)and(j+q)<=(img.shape[1]-1):\n",
    "                        dilation[i+p][j+q] = [255, 255, 255]\n",
    "    return dilation"
   ]
  },
  {
   "cell_type": "code",
   "execution_count": 4,
   "metadata": {},
   "outputs": [],
   "source": [
    "def erosion(img, kernel):\n",
    "    erosion = np.zeros(img.shape)\n",
    "    for i in range(img.shape[0]):\n",
    "        for j in range(img.shape[1]):\n",
    "            exist = True\n",
    "            for element in kernel:\n",
    "                p,q = element\n",
    "                if(i+p < 0)or(i+p >= img.shape[0])or(j+q < 0)or(j+q >= img.shape[1])or(img[i+p][j+q][0]==0):\n",
    "                    exist = False\n",
    "                    break\n",
    "            if exist:\n",
    "                erosion[i][j] = [255,255,255]\n",
    "    return erosion"
   ]
  },
  {
   "cell_type": "code",
   "execution_count": 5,
   "metadata": {},
   "outputs": [],
   "source": [
    "def opening(img, kernel):\n",
    "    return dilation(erosion(img, kernel), kernel)"
   ]
  },
  {
   "cell_type": "code",
   "execution_count": 6,
   "metadata": {},
   "outputs": [],
   "source": [
    "def closing(img, kernel):\n",
    "    return erosion(dilation(img, kernel), kernel)"
   ]
  },
  {
   "cell_type": "code",
   "execution_count": 7,
   "metadata": {},
   "outputs": [],
   "source": [
    "def hitandmiss(img, J_kernel, K_kernel):\n",
    "    img_o = erosion(img, J_kernel)\n",
    "    img_c = erosion(255-img, K_kernel)\n",
    "    ham = np.zeros(img.shape)\n",
    "    for i in range(img.shape[0]):\n",
    "        for j in range(img.shape[1]):\n",
    "            if img_o[i][j][0] == 255 and img_c[i][j][0] == 255:\n",
    "                ham[i][j] = [255, 255, 255]\n",
    "    return ham"
   ]
  },
  {
   "cell_type": "code",
   "execution_count": 8,
   "metadata": {},
   "outputs": [],
   "source": [
    "img = cv2.imread(\"lena.bmp\")\n",
    "img = binarize(img, 128)"
   ]
  },
  {
   "cell_type": "code",
   "execution_count": 9,
   "metadata": {},
   "outputs": [],
   "source": [
    "kernel = [[-2,-1],[-2,0],[-2,1],\n",
    "          [-1,-2],[-1,-1],[-1,0],[-1,1],[-1,2],\n",
    "          [0,-2],[0,-1],[0,0] ,[0,1], [0,2],\n",
    "          [1,-2],[1,-1],[1,0],[1,1],[1,2],\n",
    "          [2,-1],[2,0],[2,1]]\n",
    "\n",
    "J_kernel = [[0, 0], [1, 0], [0, -1]]\n",
    "K_kernel = [[0, 1], [-1, 1], [-1, 0]]"
   ]
  },
  {
   "cell_type": "code",
   "execution_count": 105,
   "metadata": {},
   "outputs": [
    {
     "data": {
      "text/plain": [
       "True"
      ]
     },
     "execution_count": 105,
     "metadata": {},
     "output_type": "execute_result"
    }
   ],
   "source": [
    "cv2.imwrite(\"dilation.bmp\",dilation(img,kernel))\n",
    "cv2.imwrite(\"erosion.bmp\",erosion(img, kernel))\n",
    "cv2.imwrite(\"opening.bmp\", opening(img, kernel))\n",
    "cv2.imwrite(\"closing.bmp\", closing(img, kernel))\n",
    "cv2.imwrite(\"hitandmiss.bmp\", hitandmiss(img, J_kernel, K_kernel))"
   ]
  }
 ],
 "metadata": {
  "kernelspec": {
   "display_name": "Python 3",
   "language": "python",
   "name": "python3"
  },
  "language_info": {
   "codemirror_mode": {
    "name": "ipython",
    "version": 3
   },
   "file_extension": ".py",
   "mimetype": "text/x-python",
   "name": "python",
   "nbconvert_exporter": "python",
   "pygments_lexer": "ipython3",
   "version": "3.7.4"
  }
 },
 "nbformat": 4,
 "nbformat_minor": 2
}
